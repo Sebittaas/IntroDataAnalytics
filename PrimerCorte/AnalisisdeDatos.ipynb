{
  "nbformat": 4,
  "nbformat_minor": 0,
  "metadata": {
    "colab": {
      "provenance": []
    },
    "kernelspec": {
      "name": "python3",
      "display_name": "Python 3"
    },
    "language_info": {
      "name": "python"
    }
  },
  "cells": [
    {
      "cell_type": "markdown",
      "source": [
        "#Mi Primer Análisis\n"
      ],
      "metadata": {
        "id": "iqB060aWPTik"
      }
    },
    {
      "cell_type": "markdown",
      "source": [
        "###Sección1\n"
      ],
      "metadata": {
        "id": "U2npFS-qWM9-"
      }
    },
    {
      "cell_type": "code",
      "execution_count": 1,
      "metadata": {
        "colab": {
          "base_uri": "https://localhost:8080/"
        },
        "id": "BciB1dp6Onr2",
        "outputId": "7d4a1cd0-50c1-42aa-8651-2676b6fe99c1"
      },
      "outputs": [
        {
          "output_type": "stream",
          "name": "stdout",
          "text": [
            "Hola Mundo\n"
          ]
        }
      ],
      "source": [
        "print(\"Hola Mundo\")"
      ]
    },
    {
      "cell_type": "code",
      "source": [],
      "metadata": {
        "id": "rV5jRjt3VzVX"
      },
      "execution_count": null,
      "outputs": []
    }
  ]
}